{
  "nbformat": 4,
  "nbformat_minor": 0,
  "metadata": {
    "colab": {
      "name": "Интенсив 8.12-10.12. Домашнее задание №1",
      "provenance": [],
      "include_colab_link": true
    },
    "kernelspec": {
      "name": "python3",
      "display_name": "Python 3"
    }
  },
  "cells": [
    {
      "cell_type": "markdown",
      "metadata": {
        "id": "view-in-github",
        "colab_type": "text"
      },
      "source": [
        "<a href=\"https://colab.research.google.com/github/zavorgan/test2/blob/master/%D0%98%D0%BD%D1%82%D0%B5%D0%BD%D1%81%D0%B8%D0%B2_8_12_10_12_%D0%94%D0%BE%D0%BC%D0%B0%D1%88%D0%BD%D0%B5%D0%B5_%D0%B7%D0%B0%D0%B4%D0%B0%D0%BD%D0%B8%D0%B5_%E2%84%961.ipynb\" target=\"_parent\"><img src=\"https://colab.research.google.com/assets/colab-badge.svg\" alt=\"Open In Colab\"/></a>"
      ]
    },
    {
      "cell_type": "code",
      "metadata": {
        "id": "ublXx1_JkUNc"
      },
      "source": [
        "pip install terra_ai==0.0.0.11"
      ],
      "execution_count": null,
      "outputs": []
    },
    {
      "cell_type": "code",
      "metadata": {
        "id": "jta5bTf8lLR7"
      },
      "source": [
        "from terra_ai import терра_ии"
      ],
      "execution_count": null,
      "outputs": []
    },
    {
      "cell_type": "markdown",
      "metadata": {
        "id": "52F8nOM4lR7L"
      },
      "source": [
        "### 1 Задание №1"
      ]
    },
    {
      "cell_type": "markdown",
      "metadata": {
        "id": "-HWj5qMJlUA1"
      },
      "source": [
        "1. Создайте копию этого ноутбука, чтобы получить возможность редактировать ячейки\n",
        "2. Включите поддержку GPU (пункт меню Runtime/Change Runtime type)\n",
        "3. Загрузите базу автомобилей, состояющуюю из трех марок (для этого воспользуйтесь шаблоном ниже).\n",
        "4. Постройте архитектуру нейронной сети для распознавания марок машин (аналогичную той, что была на занятии). Обратите внимание, что количество классов в данной задаче равно 3. Значит и количество выходных элементов в последенем полносвязном слое должно равняться 3.\n",
        "5. Попробуйте добиться точности модели на уровне 70%"
      ]
    },
    {
      "cell_type": "code",
      "metadata": {
        "id": "4QEXnqoYl4RR"
      },
      "source": [
        "# Скачиваем базу автомобилей\n",
        "терра_ии.загрузить_базу(\n",
        "    база = 'АВТО-3',\n",
        "    справка = True\n",
        ")"
      ],
      "execution_count": null,
      "outputs": []
    },
    {
      "cell_type": "code",
      "metadata": {
        "id": "Sv5ktN6sneTE"
      },
      "source": [
        "# Примеры из базы\n",
        "терра_ии.показать_примеры(\n",
        "    путь='/автомобили')"
      ],
      "execution_count": null,
      "outputs": []
    },
    {
      "cell_type": "code",
      "metadata": {
        "id": "ep1NhZYunkcD"
      },
      "source": [
        "# Создаем обучающую и проверочную выборки\n",
        "(обучающая_выборка, метки_обучающей_выборки), (тестовая_выборка, метки_тестовой_выборки) = терра_ии.создать_выборки(\n",
        "                                                                                                    путь='/автомобили',\n",
        "                                                                                                    размер = (54, 96))"
      ],
      "execution_count": null,
      "outputs": []
    },
    {
      "cell_type": "code",
      "metadata": {
        "id": "D-7kY8LjnnTc"
      },
      "source": [
        "слои = '' # Создайте архитектуру нейронной сети\n",
        "\n",
        "# Создаем модель\n",
        "нейронка_1 = терра_ии.создать_сеть(\n",
        "    слои = слои,\n",
        "    входной_размер = терра_ии.инициализировать_под_базу(обучающая_выборка)\n",
        "    )"
      ],
      "execution_count": null,
      "outputs": []
    },
    {
      "cell_type": "code",
      "metadata": {
        "id": "fCdnugqZnp4T"
      },
      "source": [
        "# Выводим структуру модели\n",
        "терра_ии.схема_модели(нейронка_1)"
      ],
      "execution_count": null,
      "outputs": []
    },
    {
      "cell_type": "code",
      "metadata": {
        "id": "bEL1TwArnxrJ"
      },
      "source": [
        "# Обучение модели"
      ],
      "execution_count": null,
      "outputs": []
    },
    {
      "cell_type": "code",
      "metadata": {
        "id": "eo_R7VMWokdd"
      },
      "source": [
        "# Тестирование модели"
      ],
      "execution_count": null,
      "outputs": []
    },
    {
      "cell_type": "markdown",
      "metadata": {
        "id": "i18j6upAoo9V"
      },
      "source": [
        "## Задание №2"
      ]
    },
    {
      "cell_type": "markdown",
      "metadata": {
        "id": "FQSrYziYos9F"
      },
      "source": [
        "1. Загрузите базу кожных заболеваний для задачи сегментации (воспользуйтесь шаблоном загрузки ниже)\n",
        "2. Напишите нейронную сеть, решающую задачу сегментации заболевания (можете использовать различные подходы для создания архитектуры)\n",
        "3. Протестируйте обученную сеть"
      ]
    },
    {
      "cell_type": "code",
      "metadata": {
        "id": "PUHmtTb5orNJ"
      },
      "source": [
        "# Загружаем базу самолетов\n",
        "терра_ии.загрузить_базу(\n",
        "    база = 'КОЖНЫЕ ЗАБОЛЕВАНИЯ',\n",
        "    справка = True\n",
        ")"
      ],
      "execution_count": null,
      "outputs": []
    },
    {
      "cell_type": "code",
      "metadata": {
        "id": "T3w95Dc-sYUR"
      },
      "source": [
        "# Обрабатываем скаченные изображения\n",
        "изображения, сегментированные_изображения = терра_ии.датасет.обработка_изображений(\n",
        "    оригиналы = 'diseases/origin',\n",
        "    сегменты = 'diseases/segmentation',\n",
        "    классы = ['Акне'],\n",
        "    размер = (64, 128)\n",
        ")"
      ],
      "execution_count": null,
      "outputs": []
    },
    {
      "cell_type": "code",
      "metadata": {
        "id": "OcsjfgM2pGfo"
      },
      "source": [
        "# Примеры изображений\n",
        "терра_ии.показать_примеры(\n",
        "    оригиналы = изображения,\n",
        "    сегментированные_изображения = сегментированные_изображения\n",
        ")"
      ],
      "execution_count": null,
      "outputs": []
    },
    {
      "cell_type": "code",
      "metadata": {
        "id": "OvWyoc3ZqhxG"
      },
      "source": [
        "# Формируем данные для обучения\n",
        "(обучающая_выборка, размеченная_обучающая_выборка), (тестовая_выборка, размеченная_тестовая_выборка) = терра_ии.создать_выборки_для_сегментации(\n",
        "    изображения, \n",
        "    сегментированные_изображения\n",
        ")"
      ],
      "execution_count": null,
      "outputs": []
    }
  ]
}